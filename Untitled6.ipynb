{
  "nbformat": 4,
  "nbformat_minor": 0,
  "metadata": {
    "colab": {
      "provenance": []
    },
    "kernelspec": {
      "name": "python3",
      "display_name": "Python 3"
    },
    "language_info": {
      "name": "python"
    }
  },
  "cells": [
    {
      "cell_type": "markdown",
      "source": [
        "                       **ASSIGNMENT DATA TYPE AND DATA STRUCTURE **"
      ],
      "metadata": {
        "id": "D7cGWGVogJtJ"
      }
    },
    {
      "cell_type": "markdown",
      "source": [
        "Question 1. What are data structures, and why are they important?\n",
        "\n",
        "-> Data structures are ways to organize and store data efficiently for easy access and modification. They are important because they help optimize operations like searching, sorting, and manipulating data, improving the performance of programs."
      ],
      "metadata": {
        "id": "jfSHTGRKgJwQ"
      }
    },
    {
      "cell_type": "markdown",
      "source": [
        "Question 2. Explain the difference between mutable and immutable data types with examples.\n",
        "\n",
        "-> Mutable data types allow modification after creation, e.g., lists (list), dictionaries (dict), and sets (set). Immutable data types cannot be changed once created, e.g., tuples (tuple), strings (str), and integers (int)."
      ],
      "metadata": {
        "id": "6K9tERxMgJ02"
      }
    },
    {
      "cell_type": "markdown",
      "source": [
        "Question 3. What are the main differences between lists and tuples in Python?\n",
        "\n",
        "-> Lists are mutable, meaning their elements can be modified, whereas tuples are immutable, meaning their elements cannot be changed after creation. Lists are slower in performance compared to tuples due to the overhead of mutability."
      ],
      "metadata": {
        "id": "0i708KHSgJ43"
      }
    },
    {
      "cell_type": "markdown",
      "source": [
        "Question 4. Describe how dictionaries store data.\n",
        "\n",
        "-> Dictionaries store data in key-value pairs using a hash table. Each key is unique and maps to a specific value, allowing fast lookups, insertions, and deletions with an average time complexity of O(1)."
      ],
      "metadata": {
        "id": "cHuDSexHgJ8l"
      }
    },
    {
      "cell_type": "markdown",
      "source": [
        "Question 5. Why might you use a set instead of a list?\n",
        "\n",
        "-> Sets are used when unique elements are required and order doesn’t matter. They provide faster membership testing (in operator) and eliminate duplicate values automatically."
      ],
      "metadata": {
        "id": "9zYL3yvHgKAP"
      }
    },
    {
      "cell_type": "markdown",
      "source": [
        "Question 6. What is a string in Python, and how is it different from a list?\n",
        "\n",
        "-> A string in Python is an immutable sequence of characters, whereas a list is a mutable collection of elements that can be of any data type. Strings cannot be modified after creation, but lists can be altered."
      ],
      "metadata": {
        "id": "rEuqQz8vgKDy"
      }
    },
    {
      "cell_type": "markdown",
      "source": [
        "Question 7. How do tuples ensure data integrity in Python?\n",
        "\n",
        "-> Tuples are immutable, meaning their elements cannot be changed after creation. This ensures data integrity by preventing accidental modifications, making them ideal for fixed collections of data."
      ],
      "metadata": {
        "id": "3yaZG4dbgKHl"
      }
    },
    {
      "cell_type": "markdown",
      "source": [
        "Question 8. What is a hash table, and how does it relate to dictionaries in Python?\n",
        "\n",
        "-> A hash table is a data structure that maps keys to values using a hash function. Python dictionaries are implemented using hash tables, allowing efficient lookups, insertions, and deletions."
      ],
      "metadata": {
        "id": "yNZ8uLiOgKLm"
      }
    },
    {
      "cell_type": "markdown",
      "source": [
        "Question 9. Can lists contain different data types in Python?\n",
        "\n",
        "-> Yes, lists in Python can contain elements of different data types, such as integers, strings, floats, and even other lists or dictionaries."
      ],
      "metadata": {
        "id": "Mtlt2FxYgKPu"
      }
    },
    {
      "cell_type": "markdown",
      "source": [
        "Question 10. Explain why strings are immutable in Python.\n",
        "\n",
        "-> Strings are immutable to improve security, memory optimization, and performance. This prevents accidental modifications and allows Python to internally optimize string storage using interning."
      ],
      "metadata": {
        "id": "rytlPorMgKTh"
      }
    },
    {
      "cell_type": "markdown",
      "source": [
        "Question 11. What advantages do dictionaries offer over lists for certain tasks?\n",
        "\n",
        "-> Dictionaries offer faster lookups (O(1) average complexity) compared to lists (O(n) for searching). They provide key-value mapping, making data retrieval and association more efficient."
      ],
      "metadata": {
        "id": "4ohfCavYgKXr"
      }
    },
    {
      "cell_type": "markdown",
      "source": [
        "Question 12. Describe a scenario where using a tuple would be preferable over a list.\n",
        "\n",
        "-> Tuples are preferable when dealing with constant data that should not be modified, such as database records, function return values, or fixed configuration settings."
      ],
      "metadata": {
        "id": "O7wXlyhKgKb5"
      }
    },
    {
      "cell_type": "markdown",
      "source": [
        "Question 13. How do sets handle duplicate values in Python?\n",
        "\n",
        "-> Sets automatically remove duplicate values. When elements are added to a set, any duplicates are ignored, ensuring all elements remain unique."
      ],
      "metadata": {
        "id": "FX9I-FibgKfV"
      }
    },
    {
      "cell_type": "markdown",
      "source": [
        "Question 14. How does the \"in\" keyword work differently for lists and dictionaries?\n",
        "\n",
        "-> In lists, the in keyword checks if a value exists and takes O(n) time. In dictionaries, it checks for the presence of a key using a hash table, which takes O(1) time on average."
      ],
      "metadata": {
        "id": "KsdCv6jmhHMZ"
      }
    },
    {
      "cell_type": "markdown",
      "source": [
        "Question 15. Can you modify the elements of a tuple? Explain why or why not.\n",
        "\n",
        "-> No, tuples are immutable, meaning their elements cannot be changed after creation. This ensures data integrity and allows Python to optimize memory usage."
      ],
      "metadata": {
        "id": "7SWgyyKahHn_"
      }
    },
    {
      "cell_type": "markdown",
      "source": [
        "Question 16. What is a nested dictionary, and give an example of its use case?\n",
        "\n",
        "-> A nested dictionary is a dictionary that contains another dictionary as its value. It is useful for representing hierarchical data, such as JSON data structures or multi-level configurations."
      ],
      "metadata": {
        "id": "jCtwtWWqhH9_"
      }
    },
    {
      "cell_type": "code",
      "source": [
        "student = {\n",
        "    \"name\": \"John\",\n",
        "    \"grades\": {\"math\": 90, \"science\": 85}\n",
        "}\n"
      ],
      "metadata": {
        "id": "XOVLHmsEhTou"
      },
      "execution_count": 32,
      "outputs": []
    },
    {
      "cell_type": "markdown",
      "source": [
        "question 17. Describe the time complexity of accessing elements in a dictionary.\n",
        "\n",
        "-> Accessing an element in a dictionary has an average time complexity of O(1) due to hash table implementation, but in the worst case (due to hash collisions), it can be O(n)."
      ],
      "metadata": {
        "id": "xcmwacHGhIWH"
      }
    },
    {
      "cell_type": "markdown",
      "source": [
        "Question 18. In what situations are lists preferred over dictionaries?\n",
        "\n",
        "-> Lists are preferred when order matters, duplicates are allowed, and data needs to be accessed sequentially, such as in an ordered collection of items or an indexed array."
      ],
      "metadata": {
        "id": "i-_OmG-RhZ4U"
      }
    },
    {
      "cell_type": "markdown",
      "source": [
        "Question 19. Why are dictionaries considered unordered, and how does that affect data retrieval?\n",
        "\n",
        "-> Before Python 3.7, dictionaries were unordered, meaning key-value pairs were not stored in a predictable sequence. Since Python 3.7, dictionaries maintain insertion order, but retrieval is still based on key lookups rather than position."
      ],
      "metadata": {
        "id": "6oQ4HDO8haFQ"
      }
    },
    {
      "cell_type": "markdown",
      "source": [
        "Question 20. Explain the difference between a list and a dictionary in terms of data retrieval.\n",
        "\n",
        "-> Lists retrieve elements using index-based access (O(1)), whereas dictionaries retrieve values using key-based lookups (O(1) average). Lists are useful for ordered data, while dictionaries excel in fast key-value mapping."
      ],
      "metadata": {
        "id": "F8rsgJWOhaNR"
      }
    },
    {
      "cell_type": "markdown",
      "source": [
        "                               **PRACTICAL QUESTIONS **"
      ],
      "metadata": {
        "id": "jL18bkJdhmox"
      }
    },
    {
      "cell_type": "code",
      "source": [
        "# Question 1:\n",
        "# Write a code to create a string with your name and print it.\n",
        "name = \"Rohit Sharma\"  # Creating a string with my name\n",
        "print(name)  # Printing the string\n"
      ],
      "metadata": {
        "colab": {
          "base_uri": "https://localhost:8080/"
        },
        "id": "YkgbwjmhHZKD",
        "outputId": "b63dbf9c-7f95-4bb1-d3a3-f2efcd70ba5c"
      },
      "execution_count": 1,
      "outputs": [
        {
          "output_type": "stream",
          "name": "stdout",
          "text": [
            "Rohit Sharma\n"
          ]
        }
      ]
    },
    {
      "cell_type": "code",
      "source": [
        "# Question 2:\n",
        "# Write a code to find the length of the string \"Hello World\".\n",
        "string = \"Hello World\"  # String whose length needs to be found\n",
        "print(len(string))  # Using len() function to get the length"
      ],
      "metadata": {
        "colab": {
          "base_uri": "https://localhost:8080/"
        },
        "id": "nN-HoyHkHhVl",
        "outputId": "f6f03ca8-5c25-4d2e-f839-351746c202a3"
      },
      "execution_count": 2,
      "outputs": [
        {
          "output_type": "stream",
          "name": "stdout",
          "text": [
            "11\n"
          ]
        }
      ]
    },
    {
      "cell_type": "code",
      "source": [
        "# Question 3:\n",
        "# Write a code to slice the first 3 characters from the string \"Python Programming\".\n",
        "string = \"Python Programming\"\n",
        "sliced_string = string[:3]  # Slicing from start to the third index (exclusive)\n",
        "print(sliced_string)"
      ],
      "metadata": {
        "colab": {
          "base_uri": "https://localhost:8080/"
        },
        "id": "82PUMRVGHhTl",
        "outputId": "703d0b79-1245-4199-de8e-63c046ac86d3"
      },
      "execution_count": 3,
      "outputs": [
        {
          "output_type": "stream",
          "name": "stdout",
          "text": [
            "Pyt\n"
          ]
        }
      ]
    },
    {
      "cell_type": "code",
      "source": [
        "# Question 4:\n",
        "# Write a code to convert the string \"hello\" to uppercase.\n",
        "string = \"hello\"\n",
        "uppercase_string = string.upper()  # Using upper() to convert to uppercase\n",
        "print(uppercase_string)\n",
        "\n"
      ],
      "metadata": {
        "colab": {
          "base_uri": "https://localhost:8080/"
        },
        "id": "9k7eOYe2HhP4",
        "outputId": "15d1e6a6-fdcf-4bd7-de60-b79ebb4d637d"
      },
      "execution_count": 4,
      "outputs": [
        {
          "output_type": "stream",
          "name": "stdout",
          "text": [
            "HELLO\n"
          ]
        }
      ]
    },
    {
      "cell_type": "code",
      "source": [
        "# Question 5:\n",
        "# Write a code to replace the word \"apple\" with \"orange\" in the string \"I like apple\".\n",
        "string = \"I like apple\"\n",
        "modified_string = string.replace(\"apple\", \"orange\")  # Using replace() to change words\n",
        "print(modified_string)"
      ],
      "metadata": {
        "colab": {
          "base_uri": "https://localhost:8080/"
        },
        "id": "muPY3Ez1HhLV",
        "outputId": "d182275e-14e8-4941-df88-69b55971281a"
      },
      "execution_count": 5,
      "outputs": [
        {
          "output_type": "stream",
          "name": "stdout",
          "text": [
            "I like orange\n"
          ]
        }
      ]
    },
    {
      "cell_type": "code",
      "source": [
        "# Question 6:\n",
        "# Write a code to create a list with numbers 1 to 5 and print it.\n",
        "numbers_list = [1, 2, 3, 4, 5]  # Creating list with numbers 1 to 5\n",
        "print(numbers_list)\n"
      ],
      "metadata": {
        "colab": {
          "base_uri": "https://localhost:8080/"
        },
        "id": "sCVH_KoFHhHP",
        "outputId": "9b76b61e-8173-4601-9b21-204f13e11f99"
      },
      "execution_count": 7,
      "outputs": [
        {
          "output_type": "stream",
          "name": "stdout",
          "text": [
            "[1, 2, 3, 4, 5]\n"
          ]
        }
      ]
    },
    {
      "cell_type": "code",
      "source": [
        "# Question 7:\n",
        "# Write a code to append the number 10 to the list [1, 2, 3, 4].\n",
        "numbers = [1, 2, 3, 4]\n",
        "numbers.append(10)  # Appending 10 to the list\n",
        "print(numbers)\n"
      ],
      "metadata": {
        "colab": {
          "base_uri": "https://localhost:8080/"
        },
        "id": "B_ZV5T6AHhBo",
        "outputId": "72eb3458-e154-4701-ddfc-3cfb719dc439"
      },
      "execution_count": 8,
      "outputs": [
        {
          "output_type": "stream",
          "name": "stdout",
          "text": [
            "[1, 2, 3, 4, 10]\n"
          ]
        }
      ]
    },
    {
      "cell_type": "code",
      "source": [
        "# Question 8:\n",
        "# Write a code to remove the number 3 from the list [1, 2, 3, 4, 5].\n",
        "numbers = [1, 2, 3, 4, 5]\n",
        "numbers.remove(3)  # Removing 3 from the list\n",
        "print(numbers)\n",
        "\n"
      ],
      "metadata": {
        "colab": {
          "base_uri": "https://localhost:8080/"
        },
        "id": "0jEIB-b0Hg8-",
        "outputId": "4e778cc1-4518-44c3-96da-7c2c6d72b520"
      },
      "execution_count": 9,
      "outputs": [
        {
          "output_type": "stream",
          "name": "stdout",
          "text": [
            "[1, 2, 4, 5]\n"
          ]
        }
      ]
    },
    {
      "cell_type": "code",
      "source": [
        "# Question 9:\n",
        "# Write a code to access the second element in the list ['a', 'b', 'c', 'd'].\n",
        "my_list = ['a', 'b', 'c', 'd']\n",
        "print(my_list[1])  # Index 1 gives the second element\n"
      ],
      "metadata": {
        "colab": {
          "base_uri": "https://localhost:8080/"
        },
        "id": "Hpw4mhaqHg4r",
        "outputId": "1ddef317-aab1-45cd-9dd2-7936c900f441"
      },
      "execution_count": 10,
      "outputs": [
        {
          "output_type": "stream",
          "name": "stdout",
          "text": [
            "b\n"
          ]
        }
      ]
    },
    {
      "cell_type": "code",
      "source": [
        "# Question 10:\n",
        "# Write a code to reverse the list [10, 20, 30, 40, 50].\n",
        "numbers = [10, 20, 30, 40, 50]\n",
        "numbers.reverse()  # Using reverse() to reverse the list\n",
        "print(numbers)\n"
      ],
      "metadata": {
        "colab": {
          "base_uri": "https://localhost:8080/"
        },
        "id": "B6YgkQlkHg0Q",
        "outputId": "450711da-273a-4b8c-94d8-0ae1025d09b3"
      },
      "execution_count": 11,
      "outputs": [
        {
          "output_type": "stream",
          "name": "stdout",
          "text": [
            "[50, 40, 30, 20, 10]\n"
          ]
        }
      ]
    },
    {
      "cell_type": "code",
      "source": [
        "# Question 11:\n",
        "# Write a code to create a tuple with the elements 100, 200, 300 and print it.\n",
        "tuple_example = (100, 200, 300)  # Creating tuple\n",
        "print(tuple_example)\n"
      ],
      "metadata": {
        "colab": {
          "base_uri": "https://localhost:8080/"
        },
        "id": "Gs7Y2BioHgwQ",
        "outputId": "05e41a59-0e06-4773-a1af-d398d688de28"
      },
      "execution_count": 12,
      "outputs": [
        {
          "output_type": "stream",
          "name": "stdout",
          "text": [
            "(100, 200, 300)\n"
          ]
        }
      ]
    },
    {
      "cell_type": "code",
      "source": [
        "# Question 12:\n",
        "# Write a code to access the second-to-last element of the tuple ('red', 'green', 'blue', 'yellow').\n",
        "tuple_colors = ('red', 'green', 'blue', 'yellow')\n",
        "print(tuple_colors[-2])  # Accessing second-to-last element\n",
        "\n"
      ],
      "metadata": {
        "colab": {
          "base_uri": "https://localhost:8080/"
        },
        "id": "7I27DqlRHgsP",
        "outputId": "fd9d4ce8-8c75-4c72-d7d3-401a35da2a44"
      },
      "execution_count": 13,
      "outputs": [
        {
          "output_type": "stream",
          "name": "stdout",
          "text": [
            "blue\n"
          ]
        }
      ]
    },
    {
      "cell_type": "code",
      "source": [
        "# Question 13:\n",
        "# Write a code to find the minimum number in the tuple (10, 20, 5, 15).\n",
        "tuple_numbers = (10, 20, 5, 15)\n",
        "print(min(tuple_numbers))  # Using min() to get minimum number"
      ],
      "metadata": {
        "colab": {
          "base_uri": "https://localhost:8080/"
        },
        "id": "hxTI5ZwRHgoS",
        "outputId": "cdf6b9d2-205f-4f22-e3e4-9872fbb38916"
      },
      "execution_count": 14,
      "outputs": [
        {
          "output_type": "stream",
          "name": "stdout",
          "text": [
            "5\n"
          ]
        }
      ]
    },
    {
      "cell_type": "code",
      "source": [
        "# Question 14:\n",
        "# Write a code to find the index of the element \"cat\" in the tuple ('dog', 'cat', 'rabbit').\n",
        "tuple_animals = ('dog', 'cat', 'rabbit')\n",
        "print(tuple_animals.index(\"cat\"))  # Using index() to find index of \"cat\"\n"
      ],
      "metadata": {
        "colab": {
          "base_uri": "https://localhost:8080/"
        },
        "id": "tgci1J9zHgjw",
        "outputId": "20308766-9912-4e5a-8f48-b38dfc82ec38"
      },
      "execution_count": 15,
      "outputs": [
        {
          "output_type": "stream",
          "name": "stdout",
          "text": [
            "1\n"
          ]
        }
      ]
    },
    {
      "cell_type": "code",
      "source": [
        "# Question 15:\n",
        "# Write a code to create a tuple containing three different fruits and check if \"kiwi\" is in it.\n",
        "tuple_fruits = ('apple', 'banana', 'mango')  # Creating tuple\n",
        "print(\"kiwi\" in tuple_fruits)  # Checking if \"kiwi\" is present\n"
      ],
      "metadata": {
        "colab": {
          "base_uri": "https://localhost:8080/"
        },
        "id": "3ukdT1YgHgf4",
        "outputId": "f0096813-7ebe-4d40-f016-fad2e550aa61"
      },
      "execution_count": 16,
      "outputs": [
        {
          "output_type": "stream",
          "name": "stdout",
          "text": [
            "False\n"
          ]
        }
      ]
    },
    {
      "cell_type": "code",
      "source": [
        "# Question 16:\n",
        "# Write a code to create a set with the elements 'a', 'b', 'c' and print it.\n",
        "set_example = {'a', 'b', 'c'}  # Creating a set\n",
        "print(set_example)\n"
      ],
      "metadata": {
        "colab": {
          "base_uri": "https://localhost:8080/"
        },
        "id": "FjsZgf_nHgbz",
        "outputId": "3cfda4f8-baa8-4d58-8018-2d012094de54"
      },
      "execution_count": 17,
      "outputs": [
        {
          "output_type": "stream",
          "name": "stdout",
          "text": [
            "{'b', 'a', 'c'}\n"
          ]
        }
      ]
    },
    {
      "cell_type": "code",
      "source": [
        "# Question 17:\n",
        "# Write a code to clear all elements from the set {1, 2, 3, 4, 5}.\n",
        "set_numbers = {1, 2, 3, 4, 5}\n",
        "set_numbers.clear()  # Using clear() to remove all elements\n",
        "print(set_numbers)\n"
      ],
      "metadata": {
        "colab": {
          "base_uri": "https://localhost:8080/"
        },
        "id": "NJgK2QPZHgXf",
        "outputId": "99858649-6fa1-4bee-b7c1-418ef3f801c7"
      },
      "execution_count": 18,
      "outputs": [
        {
          "output_type": "stream",
          "name": "stdout",
          "text": [
            "set()\n"
          ]
        }
      ]
    },
    {
      "cell_type": "code",
      "source": [
        "# Question 18:\n",
        "# Write a code to remove the element 4 from the set {1, 2, 3, 4}.\n",
        "set_numbers = {1, 2, 3, 4}\n",
        "set_numbers.remove(4)  # Using remove() to delete 4\n",
        "print(set_numbers)\n"
      ],
      "metadata": {
        "colab": {
          "base_uri": "https://localhost:8080/"
        },
        "id": "0z5FcPRTHgTA",
        "outputId": "ba9b40ce-f588-4dc2-f73f-e9a4915fc563"
      },
      "execution_count": 19,
      "outputs": [
        {
          "output_type": "stream",
          "name": "stdout",
          "text": [
            "{1, 2, 3}\n"
          ]
        }
      ]
    },
    {
      "cell_type": "code",
      "source": [
        "# Question 19:\n",
        "# Write a code to find the union of two sets {1, 2, 3} and {3, 4, 5}.\n",
        "set1 = {1, 2, 3}\n",
        "set2 = {3, 4, 5}\n",
        "union_set = set1.union(set2)  # Using union() for union operation\n",
        "print(union_set)\n"
      ],
      "metadata": {
        "colab": {
          "base_uri": "https://localhost:8080/"
        },
        "id": "gjWXu03QHgO3",
        "outputId": "0c969831-ce8c-4051-aae2-3e5f556f0244"
      },
      "execution_count": 20,
      "outputs": [
        {
          "output_type": "stream",
          "name": "stdout",
          "text": [
            "{1, 2, 3, 4, 5}\n"
          ]
        }
      ]
    },
    {
      "cell_type": "code",
      "source": [
        "# Question 20:\n",
        "# Write a code to find the intersection of two sets {1, 2, 3} and {2, 3, 4}.\n",
        "set1 = {1, 2, 3}\n",
        "set2 = {2, 3, 4}\n",
        "intersection_set = set1.intersection(set2)  # Using intersection() for common elements\n",
        "print(intersection_set)"
      ],
      "metadata": {
        "colab": {
          "base_uri": "https://localhost:8080/"
        },
        "id": "mtwO-VfbHgKK",
        "outputId": "cdf60adf-c3ae-4c93-eee3-2f0fd5946084"
      },
      "execution_count": 21,
      "outputs": [
        {
          "output_type": "stream",
          "name": "stdout",
          "text": [
            "{2, 3}\n"
          ]
        }
      ]
    },
    {
      "cell_type": "code",
      "source": [
        "# Question 21:\n",
        "# Write a code to create a dictionary with the keys \"name\", \"age\", and \"city\", and print it.\n",
        "dict_example = {\"name\": \"John\", \"age\": 25, \"city\": \"New York\"}  # Creating dictionary\n",
        "print(dict_example)\n"
      ],
      "metadata": {
        "colab": {
          "base_uri": "https://localhost:8080/"
        },
        "id": "XfGSMZ2yHgFz",
        "outputId": "bd4b0173-c412-4c71-d585-0ff76f640c2a"
      },
      "execution_count": 22,
      "outputs": [
        {
          "output_type": "stream",
          "name": "stdout",
          "text": [
            "{'name': 'John', 'age': 25, 'city': 'New York'}\n"
          ]
        }
      ]
    },
    {
      "cell_type": "code",
      "source": [
        "# Question 22:\n",
        "# Write a code to add a new key-value pair \"country\": \"USA\" to the dictionary {'name': 'John', 'age': 25}.\n",
        "dict_example = {\"name\": \"John\", \"age\": 25}\n",
        "dict_example[\"country\"] = \"USA\"  # Adding new key-value pair\n",
        "print(dict_example)"
      ],
      "metadata": {
        "colab": {
          "base_uri": "https://localhost:8080/"
        },
        "id": "XICBJOygHgBt",
        "outputId": "7eee2993-b5e1-466b-ba87-4c34bbefc8f1"
      },
      "execution_count": 23,
      "outputs": [
        {
          "output_type": "stream",
          "name": "stdout",
          "text": [
            "{'name': 'John', 'age': 25, 'country': 'USA'}\n"
          ]
        }
      ]
    },
    {
      "cell_type": "code",
      "source": [
        "# Question 23:\n",
        "# Write a code to access the value associated with the key \"name\" in the dictionary {'name': 'Alice', 'age': 30}.\n",
        "dict_example = {\"name\": \"Alice\", \"age\": 30}\n",
        "print(dict_example[\"name\"])  # Accessing value of key \"name\""
      ],
      "metadata": {
        "colab": {
          "base_uri": "https://localhost:8080/"
        },
        "id": "85SAT_oRHf90",
        "outputId": "af8e55e8-5947-4e54-a353-18978471a695"
      },
      "execution_count": 24,
      "outputs": [
        {
          "output_type": "stream",
          "name": "stdout",
          "text": [
            "Alice\n"
          ]
        }
      ]
    },
    {
      "cell_type": "code",
      "source": [
        "# Question 24:\n",
        "# Write a code to remove the key \"age\" from the dictionary {'name': 'Bob', 'age': 22, 'city': 'New York'}.\n",
        "dict_example = {\"name\": \"Bob\", \"age\": 22, \"city\": \"New York\"}\n",
        "del dict_example[\"age\"]  # Using del to remove key\n",
        "print(dict_example)\n"
      ],
      "metadata": {
        "colab": {
          "base_uri": "https://localhost:8080/"
        },
        "id": "TsLchB6cHf5p",
        "outputId": "5f00311f-179a-40ba-928d-eb005f183934"
      },
      "execution_count": 25,
      "outputs": [
        {
          "output_type": "stream",
          "name": "stdout",
          "text": [
            "{'name': 'Bob', 'city': 'New York'}\n"
          ]
        }
      ]
    },
    {
      "cell_type": "code",
      "source": [
        "# Question 25:\n",
        "# Write a code to check if the key \"city\" exists in the dictionary {'name': 'Alice', 'city': 'Paris'}.\n",
        "dict_example = {\"name\": \"Alice\", \"city\": \"Paris\"}\n",
        "print(\"city\" in dict_example)  # Checking if key exists"
      ],
      "metadata": {
        "colab": {
          "base_uri": "https://localhost:8080/"
        },
        "id": "D07CGOW5Hf1o",
        "outputId": "d9549aa4-28fa-4ded-8a96-2b2c9b0e0f0e"
      },
      "execution_count": 26,
      "outputs": [
        {
          "output_type": "stream",
          "name": "stdout",
          "text": [
            "True\n"
          ]
        }
      ]
    },
    {
      "cell_type": "code",
      "source": [
        "# Question 26:\n",
        "# Write a code to create a list, a tuple, and a dictionary, and print them all.\n",
        "my_list = [1, 2, 3]  # Creating list\n",
        "my_tuple = (4, 5, 6)  # Creating tuple\n",
        "my_dict = {\"a\": 7, \"b\": 8}  # Creating dictionary\n",
        "print(my_list, my_tuple, my_dict)  # Printing all"
      ],
      "metadata": {
        "colab": {
          "base_uri": "https://localhost:8080/"
        },
        "id": "MDVQ9r7THfxn",
        "outputId": "f6bf68fa-9987-4ec5-cbce-0398f986ab65"
      },
      "execution_count": 27,
      "outputs": [
        {
          "output_type": "stream",
          "name": "stdout",
          "text": [
            "[1, 2, 3] (4, 5, 6) {'a': 7, 'b': 8}\n"
          ]
        }
      ]
    },
    {
      "cell_type": "code",
      "source": [
        "# Question 27:\n",
        "# Write a code to create a list of 5 random numbers between 1 and 100, sort it in ascending order, and print the result.\n",
        "import random\n",
        "random_list = random.sample(range(1, 101), 5)  # Generating 5 random numbers\n",
        "random_list.sort()  # Sorting in ascending order\n",
        "print(random_list)\n"
      ],
      "metadata": {
        "colab": {
          "base_uri": "https://localhost:8080/"
        },
        "id": "yRh3CM91Hftf",
        "outputId": "c7ceb6ad-44b2-4ec5-c98a-b63f0996e7da"
      },
      "execution_count": 28,
      "outputs": [
        {
          "output_type": "stream",
          "name": "stdout",
          "text": [
            "[1, 65, 74, 88, 89]\n"
          ]
        }
      ]
    },
    {
      "cell_type": "code",
      "source": [
        "# Question 28:\n",
        "# Write a code to create a list with strings and print the element at the third index.\n",
        "string_list = [\"apple\", \"banana\", \"cherry\", \"date\", \"fig\"]\n",
        "print(string_list[3])  # Printing element at index 3"
      ],
      "metadata": {
        "colab": {
          "base_uri": "https://localhost:8080/"
        },
        "id": "F8ng_6D0HfpQ",
        "outputId": "fe39e186-1f80-45b4-ee5d-c5593ecdc8e2"
      },
      "execution_count": 29,
      "outputs": [
        {
          "output_type": "stream",
          "name": "stdout",
          "text": [
            "date\n"
          ]
        }
      ]
    },
    {
      "cell_type": "code",
      "source": [
        "# Question 29:\n",
        "# Write a code to combine two dictionaries into one and print the result.\n",
        "dict1 = {\"a\": 1, \"b\": 2}\n",
        "dict2 = {\"c\": 3, \"d\": 4}\n",
        "combined_dict = {**dict1, **dict2}  # Combining dictionaries\n",
        "print(combined_dict)"
      ],
      "metadata": {
        "colab": {
          "base_uri": "https://localhost:8080/"
        },
        "id": "NYnbEdvyHflW",
        "outputId": "ae46dd17-d2de-4fe3-8bf2-a05293597766"
      },
      "execution_count": 30,
      "outputs": [
        {
          "output_type": "stream",
          "name": "stdout",
          "text": [
            "{'a': 1, 'b': 2, 'c': 3, 'd': 4}\n"
          ]
        }
      ]
    },
    {
      "cell_type": "code",
      "source": [
        "# Question 30:\n",
        "# Write a code to convert a list of strings into a set.\n",
        "string_list = [\"apple\", \"banana\", \"cherry\", \"apple\"]\n",
        "string_set = set(string_list)  # Converting list to set\n",
        "print(string_set)"
      ],
      "metadata": {
        "colab": {
          "base_uri": "https://localhost:8080/"
        },
        "id": "_UIzxABrHfhd",
        "outputId": "4a28019b-b0ed-4ddd-def4-5ac5940171d7"
      },
      "execution_count": 31,
      "outputs": [
        {
          "output_type": "stream",
          "name": "stdout",
          "text": [
            "{'banana', 'apple', 'cherry'}\n"
          ]
        }
      ]
    }
  ]
}